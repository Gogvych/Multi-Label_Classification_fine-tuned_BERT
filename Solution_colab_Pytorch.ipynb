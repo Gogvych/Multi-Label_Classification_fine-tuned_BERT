{
 "cells": [
  {
   "cell_type": "code",
   "execution_count": 1,
   "metadata": {
    "colab": {
     "base_uri": "https://localhost:8080/"
    },
    "executionInfo": {
     "elapsed": 24410,
     "status": "ok",
     "timestamp": 1737728530971,
     "user": {
      "displayName": "No Name",
      "userId": "01356236225732976310"
     },
     "user_tz": -120
    },
    "id": "1Ni3bot4Q-7i",
    "outputId": "e5f92bd7-d831-4436-bfba-6b90d1581487"
   },
   "outputs": [
    {
     "name": "stdout",
     "output_type": "stream",
     "text": [
      "Mounted at /content/drive\n"
     ]
    }
   ],
   "source": [
    "from google.colab import drive\n",
    "drive.mount('/content/drive')"
   ]
  },
  {
   "cell_type": "code",
   "execution_count": 2,
   "metadata": {
    "executionInfo": {
     "elapsed": 22193,
     "status": "ok",
     "timestamp": 1737728555651,
     "user": {
      "displayName": "No Name",
      "userId": "01356236225732976310"
     },
     "user_tz": -120
    },
    "id": "LZFmufdDTR6d"
   },
   "outputs": [],
   "source": [
    "import numpy as np\n",
    "import matplotlib.pyplot as plt\n",
    "import pandas as pd\n",
    "import torch\n",
    "from torch.utils.data import Dataset, DataLoader, RandomSampler, SequentialSampler\n",
    "import transformers\n",
    "from transformers import BertTokenizer, BertModel, BertConfig\n",
    "import sklearn\n",
    "from sklearn import metrics\n",
    "import numpy as np"
   ]
  },
  {
   "cell_type": "code",
   "execution_count": 3,
   "metadata": {
    "colab": {
     "base_uri": "https://localhost:8080/"
    },
    "executionInfo": {
     "elapsed": 3085,
     "status": "ok",
     "timestamp": 1737728561170,
     "user": {
      "displayName": "No Name",
      "userId": "01356236225732976310"
     },
     "user_tz": -120
    },
    "id": "3VR9L6r9Tihq",
    "outputId": "c1ae86a2-6b8a-419b-ee55-2c5fda269165"
   },
   "outputs": [
    {
     "name": "stdout",
     "output_type": "stream",
     "text": [
      "Collecting scikit-multilearn\n",
      " Downloading scikit_multilearn-0.2.0-py3-none-any.whl.metadata (6.0 kB)\n",
      "Downloading scikit_multilearn-0.2.0-py3-none-any.whl (89 kB)\n",
      "\u001b[?25hInstalling collected packages: scikit-multilearn\n",
      "Successfully installed scikit-multilearn-0.2.0\n"
     ]
    }
   ],
   "source": [
    "#pip install scikit-multilearn"
   ]
  },
  {
   "cell_type": "code",
   "execution_count": 4,
   "metadata": {
    "colab": {
     "base_uri": "https://localhost:8080/"
    },
    "executionInfo": {
     "elapsed": 5108,
     "status": "ok",
     "timestamp": 1737728569693,
     "user": {
      "displayName": "No Name",
      "userId": "01356236225732976310"
     },
     "user_tz": -120
    },
    "id": "OOJ4MwYIUHY6",
    "outputId": "f4bc0174-6473-4067-f34a-69e0453546c7"
   },
   "outputs": [
    {
     "name": "stdout",
     "output_type": "stream",
     "text": [
      "Requirement already satisfied: openpyxl in /usr/local/lib/python3.11/dist-packages (3.1.5)\n",
      "Requirement already satisfied: et-xmlfile in /usr/local/lib/python3.11/dist-packages (from openpyxl) (2.0.0)\n"
     ]
    }
   ],
   "source": [
    "#!pip install openpyxl\n"
   ]
  },
  {
   "cell_type": "code",
   "execution_count": 5,
   "metadata": {
    "executionInfo": {
     "elapsed": 5,
     "status": "ok",
     "timestamp": 1737728571889,
     "user": {
      "displayName": "No Name",
      "userId": "01356236225732976310"
     },
     "user_tz": -120
    },
    "id": "-KJO4znQTd47"
   },
   "outputs": [],
   "source": [
    "from skmultilearn.model_selection import iterative_train_test_split"
   ]
  },
  {
   "cell_type": "code",
   "execution_count": 6,
   "metadata": {
    "executionInfo": {
     "elapsed": 830,
     "status": "ok",
     "timestamp": 1737728574432,
     "user": {
      "displayName": "No Name",
      "userId": "01356236225732976310"
     },
     "user_tz": -120
    },
    "id": "PFqxkfiPTuC4"
   },
   "outputs": [],
   "source": [
    "# # Setting up the device for GPU usage\n",
    "from torch import cuda\n",
    "device = 'cuda' if cuda.is_available() else 'cpu'"
   ]
  },
  {
   "cell_type": "code",
   "execution_count": 7,
   "metadata": {
    "colab": {
     "base_uri": "https://localhost:8080/",
     "height": 206
    },
    "executionInfo": {
     "elapsed": 2906,
     "status": "ok",
     "timestamp": 1737728578869,
     "user": {
      "displayName": "No Name",
      "userId": "01356236225732976310"
     },
     "user_tz": -120
    },
    "id": "8h70t9inTuF8",
    "outputId": "37da34c7-e25b-4f08-ddd3-775fc4d8f5c5"
   },
   "outputs": [
    {
     "data": {
      "text/plain": [
       "                                               Title              list",
       "0     Project Manager Finance/Wealth Management Area  [0, 1, 0, 0, 0, 0]",
       "1                                       CFO/Deputy CEO  [0, 0, 0, 0, 1, 0]",
       "2                            Web Application Developer  [0, 0, 1, 0, 0, 0]",
       "3  Director Customer Success / Sr. Manager, Commu...  [0, 1, 0, 1, 0, 0]",
       "4                          Executive Partner and CTO  [0, 0, 0, 0, 1, 0]"
      ]
     },
     "execution_count": 7,
     "metadata": {},
     "output_type": "execute_result"
    }
   ],
   "source": [
    "df = pd.read_excel(\"/content/drive/My Drive/Datasets/oversampled_dataset.xlsx\")\n",
    "df['list'] = df[df.columns[1:]].values.tolist()\n",
    "new_df = df[['Title', 'list']].copy()\n",
    "new_df.head()"
   ]
  },
  {
   "cell_type": "code",
   "execution_count": 8,
   "metadata": {
    "executionInfo": {
     "elapsed": 344,
     "status": "ok",
     "timestamp": 1737728582070,
     "user": {
      "displayName": "No Name",
      "userId": "01356236225732976310"
     },
     "user_tz": -120
    },
    "id": "oksClaqdUWe5"
   },
   "outputs": [],
   "source": [
    "idx = new_df.index\n",
    "text = new_df['Title']\n",
    "labels = new_df['list']"
   ]
  },
  {
   "cell_type": "code",
   "execution_count": 9,
   "metadata": {
    "colab": {
     "base_uri": "https://localhost:8080/"
    },
    "executionInfo": {
     "elapsed": 377,
     "status": "ok",
     "timestamp": 1737728587594,
     "user": {
      "displayName": "No Name",
      "userId": "01356236225732976310"
     },
     "user_tz": -120
    },
    "id": "a1V6ztcyUWoA",
    "outputId": "3fd95def-de4f-4572-eabc-3ca4ede42423"
   },
   "outputs": [
    {
     "name": "stdout",
     "output_type": "stream",
     "text": [
      "0           Project Manager Finance/Wealth Management Area\n",
      "1                                           CFO/Deputy CEO\n",
      "2                                Web Application Developer\n",
      "3         Director Customer Success / Sr. Manager, Commu...\n",
      "4                                Executive Partner and CTO\n",
      "                               ...                        \n",
      "2371                                     managing director\n",
      "2372                      SVP, Senior Credit Administrator\n",
      "2373                                   Data Repair Analyst\n",
      "2374      Head of International Product and Marketing Ma...\n",
      "2375                    Vice President/Operations Manager\n",
      "Name: Title, Length: 2376, dtype: object\n"
     ]
    }
   ],
   "source": [
    "print(text)"
   ]
  },
  {
   "cell_type": "code",
   "execution_count": 10,
   "metadata": {
    "colab": {
     "base_uri": "https://localhost:8080/"
    },
    "executionInfo": {
     "elapsed": 306,
     "status": "ok",
     "timestamp": 1737728589057,
     "user": {
      "displayName": "No Name",
      "userId": "01356236225732976310"
     },
     "user_tz": -120
    },
    "id": "DRYT57NBUWqy",
    "outputId": "9d3a1cce-e735-4782-d15f-be865ddaf9b6"
   },
   "outputs": [
    {
     "name": "stdout",
     "output_type": "stream",
     "text": [
      "[[0 1 0 0 0 0]\n",
      " [0 0 0 0 1 0]\n",
      " [0 0 1 0 0 0]\n",
      " ...\n",
      " [0 0 1 0 0 0]\n",
      " [0 0 0 1 0 0]\n",
      " [1 1 0 0 0 0]]\n"
     ]
    }
   ],
   "source": [
    "labels = np.array([np.array(label, dtype=int) for label in labels])\n",
    "print(labels)"
   ]
  },
  {
   "cell_type": "code",
   "execution_count": 12,
   "metadata": {
    "executionInfo": {
     "elapsed": 289,
     "status": "ok",
     "timestamp": 1737728618725,
     "user": {
      "displayName": "No Name",
      "userId": "01356236225732976310"
     },
     "user_tz": -120
    },
    "id": "SAyBsBRKUWtd"
   },
   "outputs": [],
   "source": [
    "# create label weights\n",
    "label_weights = 1 - labels.sum(axis=0) / labels.sum()\n",
    "\n",
    "#from sklearn.utils.class_weight import compute_class_weight\n",
    "#label_weights = compute_class_weight('balanced', classes=[0, 1], y=labels.flatten())\n",
    "#label_weights = torch.tensor(label_weights).float().to(device)"
   ]
  },
  {
   "cell_type": "code",
   "execution_count": 13,
   "metadata": {
    "executionInfo": {
     "elapsed": 263,
     "status": "ok",
     "timestamp": 1737728621991,
     "user": {
      "displayName": "No Name",
      "userId": "01356236225732976310"
     },
     "user_tz": -120
    },
    "id": "jvSJbnfjUiU4"
   },
   "outputs": [],
   "source": [
    "# stratified train-val-test split for multilabel dataset\n",
    "row_ids = np.arange(len(labels))\n",
    "train_idx, y_train, remaining_idx, y_remaining = iterative_train_test_split(row_ids[:,np.newaxis], labels, test_size = 0.2)\n",
    "val_idx, y_val, test_idx, y_test = iterative_train_test_split(remaining_idx[:,np.newaxis], y_remaining, test_size = 0.5)\n",
    "\n",
    "# Extract corresponding texts for each split\n",
    "x_train = [text[i] for i in train_idx.flatten()]\n",
    "x_val = [text[i] for i in val_idx.flatten()]\n",
    "x_test = [text[i] for i in test_idx.flatten()]\n"
   ]
  },
  {
   "cell_type": "code",
   "execution_count": 14,
   "metadata": {
    "colab": {
     "base_uri": "https://localhost:8080/",
     "height": 249
    },
    "executionInfo": {
     "elapsed": 2868,
     "status": "ok",
     "timestamp": 1737728627754,
     "user": {
      "displayName": "No Name",
      "userId": "01356236225732976310"
     },
     "user_tz": -120
    },
    "id": "95_JL-ZbUiX-",
    "outputId": "e32f33e4-5d1b-4873-c9c2-1a8f0d68652f"
   },
   "outputs": [
    {
     "name": "stderr",
     "output_type": "stream",
     "text": [
      "/usr/local/lib/python3.11/dist-packages/huggingface_hub/utils/_auth.py:94: UserWarning: \n",
      "The secret `HF_TOKEN` does not exist in your Colab secrets.\n",
      "To authenticate with the Hugging Face Hub, create a token in your settings tab (https://huggingface.co/settings/tokens), set it as secret in your Google Colab and restart your session.\n",
      "You will be able to reuse this secret in all of your notebooks.\n",
      "Please note that authentication is recommended but still optional to access public models or datasets.\n",
      "  warnings.warn(\n"
     ]
    }
   ],
   "source": [
    "# Configuration\n",
    "MAX_LEN = 200\n",
    "TRAIN_BATCH_SIZE = 16\n",
    "VALID_BATCH_SIZE = 8\n",
    "EPOCHS = 8\n",
    "LEARNING_RATE = 2e-05\n",
    "tokenizer = BertTokenizer.from_pretrained('bert-base-uncased')"
   ]
  },
  {
   "cell_type": "code",
   "execution_count": 15,
   "metadata": {
    "executionInfo": {
     "elapsed": 352,
     "status": "ok",
     "timestamp": 1737728633086,
     "user": {
      "displayName": "No Name",
      "userId": "01356236225732976310"
     },
     "user_tz": -120
    },
    "id": "T1VKdpvhUiaq"
   },
   "outputs": [],
   "source": [
    "class CustomDataset(Dataset):\n",
    "    def __init__(self, texts, labels, tokenizer, max_len=200):\n",
    "        self.texts = texts\n",
    "        self.labels = labels\n",
    "        self.tokenizer = tokenizer\n",
    "        self.max_len = max_len\n",
    "\n",
    "    def __len__(self):\n",
    "        return len(self.texts)\n",
    "\n",
    "    def __getitem__(self, index):\n",
    "        text = str(self.texts[index])\n",
    "        text = \" \".join(text.split())\n",
    "\n",
    "        inputs = self.tokenizer.encode_plus(\n",
    "            text,\n",
    "            None,\n",
    "            add_special_tokens=True,\n",
    "            max_length=self.max_len,\n",
    "            padding='max_length',\n",
    "            truncation=True,\n",
    "            return_token_type_ids=True\n",
    "        )\n",
    "\n",
    "        return {\n",
    "            'ids': torch.tensor(inputs['input_ids'], dtype=torch.long),\n",
    "            'mask': torch.tensor(inputs['attention_mask'], dtype=torch.long),\n",
    "            'token_type_ids': torch.tensor(inputs['token_type_ids'], dtype=torch.long),\n",
    "            'targets': torch.tensor(self.labels[index], dtype=torch.float)\n",
    "        }\n",
    "\n",
    "# Create datasets\n",
    "train_dataset = CustomDataset(x_train, y_train, tokenizer, max_len=MAX_LEN)\n",
    "val_dataset = CustomDataset(x_val, y_val, tokenizer, max_len=MAX_LEN)\n",
    "test_dataset = CustomDataset(x_test, y_test, tokenizer, max_len=MAX_LEN)\n",
    "\n",
    "# Create dataloaders\n",
    "train_loader = DataLoader(train_dataset, batch_size=TRAIN_BATCH_SIZE, shuffle=True)\n",
    "val_loader = DataLoader(val_dataset, batch_size=VALID_BATCH_SIZE, shuffle=False)\n",
    "test_loader = DataLoader(test_dataset, batch_size=VALID_BATCH_SIZE, shuffle=False)"
   ]
  },
  {
   "cell_type": "code",
   "execution_count": 16,
   "metadata": {
    "colab": {
     "base_uri": "https://localhost:8080/"
    },
    "executionInfo": {
     "elapsed": 323,
     "status": "ok",
     "timestamp": 1737728636537,
     "user": {
      "displayName": "No Name",
      "userId": "01356236225732976310"
     },
     "user_tz": -120
    },
    "id": "bUyVwf_zUidU",
    "outputId": "1b5a3785-fc6a-40d2-b447-43f5a00e4425"
   },
   "outputs": [
    {
     "name": "stdout",
